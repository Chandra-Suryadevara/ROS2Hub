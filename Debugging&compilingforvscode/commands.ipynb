{
 "cells": [
  {
   "cell_type": "markdown",
   "metadata": {},
   "source": [
    "When you are just building the ros code it doesn't give you any error after bulding when are truing to run the node that's when you get the error.\n",
    "\n",
    "To create a workspace and a package:\n",
    "1. Make a workspace DIR.\n",
    "2. use this command : ros2 pkg create PACKAGE_NAME"
   ]
  },
  {
   "cell_type": "markdown",
   "metadata": {},
   "source": [
    "To know where is the error You have to follow these steps"
   ]
  },
  {
   "cell_type": "markdown",
   "metadata": {},
   "source": [
    "Requirements\n",
    "\n",
    "    - gdbserver to install: sudo apt install gdbserver"
   ]
  },
  {
   "cell_type": "markdown",
   "metadata": {},
   "source": [
    "Now Build the pacakge using this command\n",
    "\n",
    "        - colcon build --cmake-args -DCMAKE_BUILD_TYPE=RelWithDebInfo"
   ]
  },
  {
   "cell_type": "markdown",
   "metadata": {},
   "source": [
    "Now run ros commands \n",
    "\n",
    "    - ros2 run --prefix 'gdbserver localhost:3000' pkg_name executable_name"
   ]
  },
  {
   "cell_type": "markdown",
   "metadata": {},
   "source": [
    "Now please check the launch.json please improt that to vscode \n",
    "\n",
    "refer to these :https://code.visualstudio.com/docs/editor/debugging\n",
    "\n",
    "https://docs.ros.org/en/foxy/Tutorials/Beginner-CLI-Tools/Understanding-ROS2-Nodes/Understanding-ROS2-Nodes.html\n",
    "\n",
    "* Also to automate this we can use tasks.json file in vs code"
   ]
  }
 ],
 "metadata": {
  "language_info": {
   "name": "python"
  }
 },
 "nbformat": 4,
 "nbformat_minor": 2
}
