{
 "cells": [
  {
   "cell_type": "markdown",
   "metadata": {},
   "source": [
    "# How to compile ROS Nodes"
   ]
  },
  {
   "cell_type": "markdown",
   "metadata": {},
   "source": [
    "* Add Dependecies to package.xml\n",
    " Examples\n",
    "    - <buildtool_depend>ament_cmake</buildtool_depend>\n",
    "    - <depend>rclcpp</depend>\n",
    "    - <depend>std_msgs</depend>\n",
    "\n",
    "* We also need to add Dependencies to CMakeLists.txt\n",
    "    - find_package(ament_cmake REQUIRED)\n",
    "    - find_package(rclcpp REQUIRED)\n",
    "    - find_package(std_msgs REQUIRED)\n"
   ]
  },
  {
   "cell_type": "markdown",
   "metadata": {},
   "source": [
    "* Add Node Executable to CMakeLists.txt\n",
    "    - add_executable(executable_name src/file.cpp)\n",
    "    - ament_target_dependencies(executable_name rclcpp std_msgs)\n",
    "\n",
    "* Install Targets in CMakeLists.txt\n",
    "\n",
    "    install(TARGETS \n",
    "    executable_name\n",
    "    DESTIONATION lib/${PROJECT_NAME})"
   ]
  }
 ],
 "metadata": {
  "language_info": {
   "name": "python"
  }
 },
 "nbformat": 4,
 "nbformat_minor": 2
}
