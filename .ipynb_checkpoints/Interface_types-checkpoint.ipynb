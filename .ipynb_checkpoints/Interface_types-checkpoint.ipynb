{
 "cells": [
  {
   "cell_type": "markdown",
   "metadata": {},
   "source": [
    "### ROS applications typically communicate through interfaces of one of three types: messages, services and actions."
   ]
  },
  {
   "cell_type": "markdown",
   "metadata": {},
   "source": [
    "1. msg: .msg files are simple text files that describe the fields of a ROS message. They are used to generate source code for messages in different languages.\n",
    "\n",
    "In std::msgs we can use any datatype\n",
    "\n",
    "Please refer to this for more details :https://index.ros.org/p/std_msgs/"
   ]
  },
  {
   "cell_type": "markdown",
   "metadata": {},
   "source": [
    "\n",
    "\n",
    "2. srv: .srv files describe a service. They are composed of two parts: a request and a response. The request and response are message declarations.\n",
    "\n",
    "Here is guide for sensor :https://index.ros.org/p/sensor_msgs/\n",
    " \n",
    "* in this library we can send so much information example GPS coordinate or lazer sensor things\n"
   ]
  },
  {
   "cell_type": "markdown",
   "metadata": {},
   "source": [
    "\n",
    "3. action: .action files describe actions. They are composed of three parts: a goal, a result, and feedback. Each part is a message declaration itself."
   ]
  },
  {
   "cell_type": "markdown",
   "metadata": {},
   "source": []
  }
 ],
 "metadata": {
  "language_info": {
   "name": "python"
  }
 },
 "nbformat": 4,
 "nbformat_minor": 2
}
