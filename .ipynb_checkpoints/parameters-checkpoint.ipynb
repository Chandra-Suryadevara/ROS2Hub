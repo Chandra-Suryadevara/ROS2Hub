{
 "cells": [
  {
   "cell_type": "markdown",
   "metadata": {},
   "source": [
    "# Parameters"
   ]
  },
  {
   "cell_type": "markdown",
   "metadata": {},
   "source": [
    "* A parameter is a configuration value of a node. You can think of parameters as node settings. A node can store parameters as integers, floats, booleans, strings, and lists.\n",
    "- This helps alot when we need multiple nodes share parameter to each other (makes it efficent) also we dont need to think about memory leaks."
   ]
  },
  {
   "cell_type": "markdown",
   "metadata": {},
   "source": [
    "* to see all paramters of all nodes \n",
    "\n",
    "    - ros2 param list\n",
    "\n",
    "* to get specific paramter of a specific node \n",
    "    - ros2 param get <node_name> <parameter_name>\n",
    "\n",
    "* to change value of a parameter at runtime:\n",
    "    - ros2 param set <node_name> <parameter_name> <value>"
   ]
  },
  {
   "cell_type": "markdown",
   "metadata": {},
   "source": [
    "* How to declare a parameter in ROS  (C++): \n",
    "\n",
    "        - this->declare_parameter(\"my_parameter\", \"world\");\n",
    "\n",
    "* How to get a parameter on ROS :\n",
    "\n",
    "        - this->get_parameter(\"my_parameter\").as_string();\n",
    "\n",
    "* How to set a parameter on ROS:\n",
    "\n",
    "        -  this->set_parameters(all_new_parameters);"
   ]
  },
  {
   "cell_type": "markdown",
   "metadata": {},
   "source": []
  }
 ],
 "metadata": {
  "language_info": {
   "name": "python"
  }
 },
 "nbformat": 4,
 "nbformat_minor": 2
}
