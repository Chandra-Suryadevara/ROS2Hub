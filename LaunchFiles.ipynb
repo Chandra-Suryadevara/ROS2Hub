{
 "cells": [
  {
   "cell_type": "markdown",
   "id": "aa4cf945-9e03-47ef-add2-e30e395ae2cd",
   "metadata": {},
   "source": [
    "# Setting up Launch Files"
   ]
  },
  {
   "cell_type": "markdown",
   "id": "ab11dca7-a91f-4858-b4ff-36dff8e18ca2",
   "metadata": {},
   "source": [
    "- Purpose of making launch files is that lets say we have multiple nodes (example 10) in that you cannot open evry single node in a new terminal and everytime write the command wouldbe hectic and inefficent"
   ]
  },
  {
   "cell_type": "markdown",
   "id": "c9bfb34c-5104-4268-bf87-95a66da9fda6",
   "metadata": {},
   "source": [
    "- To solve that we make launch files"
   ]
  },
  {
   "cell_type": "markdown",
   "id": "83ba34df-2357-470f-9c3d-a1ae41d4f7c6",
   "metadata": {},
   "source": [
    "* Example Launch File:\n",
    "\n",
    "\n",
    "from launch import LaunchDescription\n",
    "\n",
    "from launch_ros.actions import Node\n",
    "\n",
    "\n",
    "\n",
    "\n",
    "def generate_launch_description():\n",
    "\n",
    "    return LaunchDescription([\n",
    "    \n",
    "        Node(\n",
    "        \n",
    "            package=\"rpm_speed_calc\",\n",
    "            \n",
    "            executable=\"publishrmp\",\n",
    "            \n",
    "            name=\"rpm_node\"\n",
    "            \n",
    "        )\n",
    "        \n",
    "    ]\n",
    "    \n",
    "\n",
    "        )\n",
    "        "
   ]
  },
  {
   "cell_type": "markdown",
   "id": "d0a8adb3-db3b-4e1f-9234-d08b2e09a5e3",
   "metadata": {},
   "source": [
    "*  If you want to use launch files you have to add this to your CMAke file as well \n",
    "\n",
    "-install(DIRECTORY\n",
    "      launch\n",
    "      DESTINATION share/${PROJECT_NAME}\n",
    "      )"
   ]
  },
  {
   "cell_type": "markdown",
   "id": "0531c958-dfb9-4896-994b-59b817fd0f00",
   "metadata": {},
   "source": [
    "And ### Commands are \n",
    "1. Once You build.\n",
    "2. ros2 launch pkg_name name_of_launch_files                "
   ]
  }
 ],
 "metadata": {
  "kernelspec": {
   "display_name": "Python 3 (ipykernel)",
   "language": "python",
   "name": "python3"
  },
  "language_info": {
   "codemirror_mode": {
    "name": "ipython",
    "version": 3
   },
   "file_extension": ".py",
   "mimetype": "text/x-python",
   "name": "python",
   "nbconvert_exporter": "python",
   "pygments_lexer": "ipython3",
   "version": "3.11.6"
  }
 },
 "nbformat": 4,
 "nbformat_minor": 5
}
